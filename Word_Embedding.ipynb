{
  "nbformat": 4,
  "nbformat_minor": 0,
  "metadata": {
    "colab": {
      "provenance": [],
      "authorship_tag": "ABX9TyPsHT+6u486057OX4Ni0jhd",
      "include_colab_link": true
    },
    "kernelspec": {
      "name": "python3",
      "display_name": "Python 3"
    },
    "language_info": {
      "name": "python"
    }
  },
  "cells": [
    {
      "cell_type": "markdown",
      "metadata": {
        "id": "view-in-github",
        "colab_type": "text"
      },
      "source": [
        "<a href=\"https://colab.research.google.com/github/Pradeep2535/Colab-Notebooks-for-GenAI/blob/main/Word_Embedding.ipynb\" target=\"_parent\"><img src=\"https://colab.research.google.com/assets/colab-badge.svg\" alt=\"Open In Colab\"/></a>"
      ]
    },
    {
      "cell_type": "code",
      "source": [],
      "metadata": {
        "id": "CfQdV8TgO_YF"
      },
      "execution_count": null,
      "outputs": []
    },
    {
      "cell_type": "code",
      "source": [
        "!pip install nltk"
      ],
      "metadata": {
        "id": "FYjzTRGePHdO",
        "colab": {
          "base_uri": "https://localhost:8080/"
        },
        "outputId": "1a291078-e805-446e-fe78-c167ca1d5173"
      },
      "execution_count": null,
      "outputs": [
        {
          "output_type": "stream",
          "name": "stdout",
          "text": [
            "Requirement already satisfied: nltk in /usr/local/lib/python3.10/dist-packages (3.9.1)\n",
            "Requirement already satisfied: click in /usr/local/lib/python3.10/dist-packages (from nltk) (8.1.7)\n",
            "Requirement already satisfied: joblib in /usr/local/lib/python3.10/dist-packages (from nltk) (1.4.2)\n",
            "Requirement already satisfied: regex>=2021.8.3 in /usr/local/lib/python3.10/dist-packages (from nltk) (2024.9.11)\n",
            "Requirement already satisfied: tqdm in /usr/local/lib/python3.10/dist-packages (from nltk) (4.66.6)\n"
          ]
        }
      ]
    },
    {
      "cell_type": "code",
      "source": [
        "!pip install gensim"
      ],
      "metadata": {
        "colab": {
          "base_uri": "https://localhost:8080/"
        },
        "id": "33GO6cpRSrAq",
        "outputId": "c89c800c-208c-446d-a18d-cefe6d224879"
      },
      "execution_count": null,
      "outputs": [
        {
          "output_type": "stream",
          "name": "stdout",
          "text": [
            "Requirement already satisfied: gensim in /usr/local/lib/python3.10/dist-packages (4.3.3)\n",
            "Requirement already satisfied: numpy<2.0,>=1.18.5 in /usr/local/lib/python3.10/dist-packages (from gensim) (1.26.4)\n",
            "Requirement already satisfied: scipy<1.14.0,>=1.7.0 in /usr/local/lib/python3.10/dist-packages (from gensim) (1.13.1)\n",
            "Requirement already satisfied: smart-open>=1.8.1 in /usr/local/lib/python3.10/dist-packages (from gensim) (7.0.5)\n",
            "Requirement already satisfied: wrapt in /usr/local/lib/python3.10/dist-packages (from smart-open>=1.8.1->gensim) (1.16.0)\n"
          ]
        }
      ]
    },
    {
      "cell_type": "code",
      "source": [
        "!pip install keras"
      ],
      "metadata": {
        "colab": {
          "base_uri": "https://localhost:8080/"
        },
        "id": "Ysa1fuXukC7i",
        "outputId": "8b7dc58d-fcd2-442a-f114-06417429f463"
      },
      "execution_count": null,
      "outputs": [
        {
          "output_type": "stream",
          "name": "stdout",
          "text": [
            "Requirement already satisfied: keras in /usr/local/lib/python3.10/dist-packages (3.5.0)\n",
            "Requirement already satisfied: absl-py in /usr/local/lib/python3.10/dist-packages (from keras) (1.4.0)\n",
            "Requirement already satisfied: numpy in /usr/local/lib/python3.10/dist-packages (from keras) (1.26.4)\n",
            "Requirement already satisfied: rich in /usr/local/lib/python3.10/dist-packages (from keras) (13.9.4)\n",
            "Requirement already satisfied: namex in /usr/local/lib/python3.10/dist-packages (from keras) (0.0.8)\n",
            "Requirement already satisfied: h5py in /usr/local/lib/python3.10/dist-packages (from keras) (3.12.1)\n",
            "Requirement already satisfied: optree in /usr/local/lib/python3.10/dist-packages (from keras) (0.13.1)\n",
            "Requirement already satisfied: ml-dtypes in /usr/local/lib/python3.10/dist-packages (from keras) (0.4.1)\n",
            "Requirement already satisfied: packaging in /usr/local/lib/python3.10/dist-packages (from keras) (24.2)\n",
            "Requirement already satisfied: typing-extensions>=4.5.0 in /usr/local/lib/python3.10/dist-packages (from optree->keras) (4.12.2)\n",
            "Requirement already satisfied: markdown-it-py>=2.2.0 in /usr/local/lib/python3.10/dist-packages (from rich->keras) (3.0.0)\n",
            "Requirement already satisfied: pygments<3.0.0,>=2.13.0 in /usr/local/lib/python3.10/dist-packages (from rich->keras) (2.18.0)\n",
            "Requirement already satisfied: mdurl~=0.1 in /usr/local/lib/python3.10/dist-packages (from markdown-it-py>=2.2.0->rich->keras) (0.1.2)\n"
          ]
        }
      ]
    },
    {
      "cell_type": "code",
      "source": [
        "from tensorflow.keras.preprocessing.text import one_hot\n",
        "import gensim"
      ],
      "metadata": {
        "id": "kVxuVBBfVT97"
      },
      "execution_count": null,
      "outputs": []
    },
    {
      "cell_type": "code",
      "source": [
        "sentences = [\n",
        "    \"The quick brown fox jumps over the lazy dog.\",\n",
        "    \"Artificial intelligence is transforming the world.\",\n",
        "    \"Deep learning models require large datasets.\",\n",
        "    \"Keras is a high-level neural networks API.\",\n",
        "    \"Python is popular for machine learning and data science.\",\n",
        "    \"Text preprocessing is essential for NLP tasks.\",\n",
        "    \"One-hot encoding represents text numerically.\",\n",
        "    \"Neural networks can learn complex patterns in data.\",\n",
        "    \"TensorFlow is a powerful library for machine learning.\",\n",
        "    \"Natural language processing enables machines to understand text.\",\n",
        "]"
      ],
      "metadata": {
        "id": "lxzXo-LmjVn9"
      },
      "execution_count": null,
      "outputs": []
    },
    {
      "cell_type": "code",
      "source": [
        "sentences1 = []\n",
        "for i in range(len(sentences)):\n",
        "  sentences1.append(sentences[i].split())\n",
        "MAX_LEN = max(sentences1, key=lambda x:len(x))\n",
        "MAX_LEN = len(MAX_LEN)\n",
        "MAX_LEN"
      ],
      "metadata": {
        "colab": {
          "base_uri": "https://localhost:8080/"
        },
        "id": "X80ydgMgpm-k",
        "outputId": "e9fb8967-f247-470a-bd47-ef361dd03bc1"
      },
      "execution_count": null,
      "outputs": [
        {
          "output_type": "execute_result",
          "data": {
            "text/plain": [
              "9"
            ]
          },
          "metadata": {},
          "execution_count": 56
        }
      ]
    },
    {
      "cell_type": "code",
      "source": [
        "voc_size = 10000"
      ],
      "metadata": {
        "id": "MJtEInUzmOP8"
      },
      "execution_count": null,
      "outputs": []
    },
    {
      "cell_type": "markdown",
      "source": [
        "#One Hot Representation"
      ],
      "metadata": {
        "id": "FRwmf6cimXwY"
      }
    },
    {
      "cell_type": "code",
      "source": [
        "one_hot_rep = [one_hot(words, voc_size) for words in sentences]\n",
        "one_hot_rep"
      ],
      "metadata": {
        "colab": {
          "base_uri": "https://localhost:8080/"
        },
        "id": "Tc45NQJRmXRb",
        "outputId": "78f03c9c-c3ac-4895-ee70-6fd50e482236"
      },
      "execution_count": null,
      "outputs": [
        {
          "output_type": "execute_result",
          "data": {
            "text/plain": [
              "[[4912, 5913, 356, 1379, 8714, 6584, 4912, 9776, 7994],\n",
              " [8381, 8644, 1768, 9087, 4912, 7228],\n",
              " [9780, 9600, 6052, 8747, 3393, 6422],\n",
              " [2182, 1768, 7205, 719, 2841, 8445, 6288, 5991],\n",
              " [8180, 1768, 4809, 6150, 3175, 9600, 133, 9435, 6784],\n",
              " [4326, 347, 1768, 4977, 6150, 6246, 9443],\n",
              " [7375, 5103, 3119, 6658, 4326, 9853],\n",
              " [8445, 6288, 1461, 6729, 8109, 6862, 2776, 9435],\n",
              " [3848, 1768, 7205, 2782, 5100, 6150, 3175, 9600],\n",
              " [4936, 1508, 7027, 65, 4292, 5490, 7639, 4326]]"
            ]
          },
          "metadata": {},
          "execution_count": 58
        }
      ]
    },
    {
      "cell_type": "code",
      "source": [
        "from tensorflow.keras.preprocessing.sequence import pad_sequences\n",
        "\n",
        "embedded_docs = pad_sequences(one_hot_rep,padding = 'pre', maxlen = MAX_LEN)\n",
        "embedded_docs"
      ],
      "metadata": {
        "colab": {
          "base_uri": "https://localhost:8080/"
        },
        "id": "7tiUmJXgnlAN",
        "outputId": "b5a990f4-9615-4e0f-982d-b9498bcd39af"
      },
      "execution_count": null,
      "outputs": [
        {
          "output_type": "execute_result",
          "data": {
            "text/plain": [
              "array([[4912, 5913,  356, 1379, 8714, 6584, 4912, 9776, 7994],\n",
              "       [   0,    0,    0, 8381, 8644, 1768, 9087, 4912, 7228],\n",
              "       [   0,    0,    0, 9780, 9600, 6052, 8747, 3393, 6422],\n",
              "       [   0, 2182, 1768, 7205,  719, 2841, 8445, 6288, 5991],\n",
              "       [8180, 1768, 4809, 6150, 3175, 9600,  133, 9435, 6784],\n",
              "       [   0,    0, 4326,  347, 1768, 4977, 6150, 6246, 9443],\n",
              "       [   0,    0,    0, 7375, 5103, 3119, 6658, 4326, 9853],\n",
              "       [   0, 8445, 6288, 1461, 6729, 8109, 6862, 2776, 9435],\n",
              "       [   0, 3848, 1768, 7205, 2782, 5100, 6150, 3175, 9600],\n",
              "       [   0, 4936, 1508, 7027,   65, 4292, 5490, 7639, 4326]],\n",
              "      dtype=int32)"
            ]
          },
          "metadata": {},
          "execution_count": 59
        }
      ]
    },
    {
      "cell_type": "code",
      "source": [
        "from tensorflow.keras.layers import Embedding\n",
        "from tensorflow.keras.models import Sequential"
      ],
      "metadata": {
        "id": "YFxAf8vqp48b"
      },
      "execution_count": null,
      "outputs": []
    },
    {
      "cell_type": "code",
      "source": [
        "model = Sequential()\n",
        "model.add(Embedding(voc_size, 10,input_length = MAX_LEN ))\n",
        "model.compile(optimizer='adam',loss='sme')"
      ],
      "metadata": {
        "colab": {
          "base_uri": "https://localhost:8080/"
        },
        "id": "mM9Y-NYaqrjV",
        "outputId": "b10c7e68-c172-413a-d4ef-81306facb7ad"
      },
      "execution_count": null,
      "outputs": [
        {
          "output_type": "stream",
          "name": "stderr",
          "text": [
            "/usr/local/lib/python3.10/dist-packages/keras/src/layers/core/embedding.py:90: UserWarning: Argument `input_length` is deprecated. Just remove it.\n",
            "  warnings.warn(\n"
          ]
        }
      ]
    },
    {
      "cell_type": "code",
      "source": [
        "print(model.predict(embedded_docs))"
      ],
      "metadata": {
        "colab": {
          "base_uri": "https://localhost:8080/"
        },
        "id": "WICyrYzrskqZ",
        "outputId": "79fa7743-2d13-46f6-bf29-c88d8acc1b01"
      },
      "execution_count": null,
      "outputs": [
        {
          "output_type": "stream",
          "name": "stdout",
          "text": [
            "\u001b[1m1/1\u001b[0m \u001b[32m━━━━━━━━━━━━━━━━━━━━\u001b[0m\u001b[37m\u001b[0m \u001b[1m0s\u001b[0m 163ms/step\n",
            "10\n"
          ]
        }
      ]
    },
    {
      "cell_type": "code",
      "source": [
        "print(model.predict(embedded_docs)[0])"
      ],
      "metadata": {
        "colab": {
          "base_uri": "https://localhost:8080/"
        },
        "id": "mAMilf7CswWh",
        "outputId": "c39f3a20-8508-4655-df1d-455788363e09"
      },
      "execution_count": null,
      "outputs": [
        {
          "output_type": "stream",
          "name": "stdout",
          "text": [
            "\u001b[1m1/1\u001b[0m \u001b[32m━━━━━━━━━━━━━━━━━━━━\u001b[0m\u001b[37m\u001b[0m \u001b[1m0s\u001b[0m 19ms/step\n",
            "[[ 0.01733819 -0.0282226  -0.0181481  -0.02883585 -0.00861954  0.00324767\n",
            "  -0.00721133 -0.04105578  0.02576348 -0.04436947]\n",
            " [ 0.04616572 -0.03802057  0.0049751  -0.03588538  0.0476757  -0.04696489\n",
            "   0.0299846  -0.02721913 -0.02703154  0.01583738]\n",
            " [-0.00954901  0.04083682 -0.01334754  0.04221657 -0.02795739  0.03009177\n",
            "  -0.00360552  0.04299097 -0.04576117  0.01889083]\n",
            " [ 0.01642332  0.01789154  0.01123835 -0.01808488  0.02215213 -0.01181094\n",
            "  -0.04606544  0.03794524  0.01651294 -0.01576151]\n",
            " [-0.03179656 -0.00105147  0.03219369 -0.00625534 -0.00538439 -0.04999523\n",
            "   0.02653958  0.03296366 -0.03329488  0.03665734]\n",
            " [ 0.03151772  0.01577182  0.00886924  0.01658838 -0.03801631  0.04545294\n",
            "  -0.0017584   0.02992089  0.04047788 -0.04979849]\n",
            " [ 0.01733819 -0.0282226  -0.0181481  -0.02883585 -0.00861954  0.00324767\n",
            "  -0.00721133 -0.04105578  0.02576348 -0.04436947]\n",
            " [-0.00850117 -0.01150093  0.04563216 -0.01694914 -0.01448672 -0.03646548\n",
            "  -0.01238713 -0.02026933  0.01550709  0.03635112]\n",
            " [-0.01316905  0.03036911 -0.02042004  0.0010077   0.01418421  0.00989789\n",
            "  -0.01131804  0.01800764  0.03869302 -0.01029491]]\n"
          ]
        }
      ]
    },
    {
      "cell_type": "code",
      "source": [],
      "metadata": {
        "id": "QLh2dflft_eP"
      },
      "execution_count": null,
      "outputs": []
    }
  ]
}