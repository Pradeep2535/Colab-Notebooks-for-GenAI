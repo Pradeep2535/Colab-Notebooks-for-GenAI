{
  "nbformat": 4,
  "nbformat_minor": 0,
  "metadata": {
    "colab": {
      "provenance": [],
      "authorship_tag": "ABX9TyNtliCqgt0zNZQYZxAW7ol0",
      "include_colab_link": true
    },
    "kernelspec": {
      "name": "python3",
      "display_name": "Python 3"
    },
    "language_info": {
      "name": "python"
    }
  },
  "cells": [
    {
      "cell_type": "markdown",
      "metadata": {
        "id": "view-in-github",
        "colab_type": "text"
      },
      "source": [
        "<a href=\"https://colab.research.google.com/github/Pradeep2535/Colab-Notebooks-for-GenAI/blob/main/Multimodal_RAG_for_Skin_Disease_Identification.ipynb\" target=\"_parent\"><img src=\"https://colab.research.google.com/assets/colab-badge.svg\" alt=\"Open In Colab\"/></a>"
      ]
    },
    {
      "cell_type": "code",
      "source": [
        "from IPython.display import clear_output"
      ],
      "metadata": {
        "id": "QcKohj02CPv-"
      },
      "execution_count": null,
      "outputs": []
    },
    {
      "cell_type": "code",
      "source": [
        "!pip install langchain-google-genai langchain langchain-community\n",
        "clear_output()"
      ],
      "metadata": {
        "id": "rSvlbiNCCUfU"
      },
      "execution_count": null,
      "outputs": []
    },
    {
      "cell_type": "code",
      "source": [
        "from langchain_google_genai import GoogleGenerativeAIEmbeddings,GoogleGenerativeAI"
      ],
      "metadata": {
        "id": "bnCbnR_mCoFp"
      },
      "execution_count": null,
      "outputs": []
    },
    {
      "cell_type": "code",
      "source": [
        "from google.colab import userdata\n",
        "import os\n",
        "os.environ['GOOGLE_API_KEY'] = userdata.get('GOOGLE_API_KEY')\n"
      ],
      "metadata": {
        "id": "BqaL--uHDLOD"
      },
      "execution_count": null,
      "outputs": []
    },
    {
      "cell_type": "code",
      "source": [
        "from PIL import Image\n",
        "import base64"
      ],
      "metadata": {
        "id": "UZQULy22Jwal"
      },
      "execution_count": null,
      "outputs": []
    },
    {
      "cell_type": "code",
      "source": [
        "from langchain.schema import (\n",
        "    AIMessage,\n",
        "    HumanMessage,\n",
        "    SystemMessage\n",
        ")"
      ],
      "metadata": {
        "id": "5hN4QZvxMrEv"
      },
      "execution_count": null,
      "outputs": []
    },
    {
      "cell_type": "code",
      "source": [
        "model = GoogleGenerativeAI(model='gemini-1.5-flash')"
      ],
      "metadata": {
        "id": "DVTqHLPpNAXf"
      },
      "execution_count": null,
      "outputs": []
    },
    {
      "cell_type": "code",
      "source": [
        "response = model.invoke(message)"
      ],
      "metadata": {
        "id": "AQCxIJv0JLNO"
      },
      "execution_count": null,
      "outputs": []
    },
    {
      "cell_type": "code",
      "source": [
        "response"
      ],
      "metadata": {
        "colab": {
          "base_uri": "https://localhost:8080/",
          "height": 54
        },
        "id": "HoPpfZZQNtPu",
        "outputId": "96963640-a723-4003-b68b-74e7506d20f1"
      },
      "execution_count": null,
      "outputs": [
        {
          "output_type": "execute_result",
          "data": {
            "text/plain": [
              "\"I am an e-commerce assistant and I can help you with product suggestions based on the image.  However, I cannot access external websites or specific files online, including the image URL you provided.  Therefore, I'm unable to provide product suggestions at this time.\\n\""
            ],
            "application/vnd.google.colaboratory.intrinsic+json": {
              "type": "string"
            }
          },
          "metadata": {},
          "execution_count": 49
        }
      ]
    },
    {
      "cell_type": "code",
      "source": [
        "embeddings.embed_documents"
      ],
      "metadata": {
        "id": "mgghfeJQC_k2"
      },
      "execution_count": null,
      "outputs": []
    },
    {
      "cell_type": "code",
      "source": [
        "!pip install --upgrade torch transformers pillow\n",
        "clear_output()"
      ],
      "metadata": {
        "id": "QpN5MG6ap860"
      },
      "execution_count": null,
      "outputs": []
    },
    {
      "cell_type": "code",
      "source": [
        "!pip uninstall torch torchvision\n"
      ],
      "metadata": {
        "colab": {
          "base_uri": "https://localhost:8080/"
        },
        "id": "H-4qDtJJqc71",
        "outputId": "08799489-77c6-415a-b1c3-79f52f92314e"
      },
      "execution_count": null,
      "outputs": [
        {
          "output_type": "stream",
          "name": "stdout",
          "text": [
            "Found existing installation: torch 2.5.1\n",
            "Uninstalling torch-2.5.1:\n",
            "  Would remove:\n",
            "    /usr/local/bin/convert-caffe2-to-onnx\n",
            "    /usr/local/bin/convert-onnx-to-caffe2\n",
            "    /usr/local/bin/torchfrtrace\n",
            "    /usr/local/bin/torchrun\n",
            "    /usr/local/lib/python3.10/dist-packages/functorch/*\n",
            "    /usr/local/lib/python3.10/dist-packages/torch-2.5.1.dist-info/*\n",
            "    /usr/local/lib/python3.10/dist-packages/torch/*\n",
            "    /usr/local/lib/python3.10/dist-packages/torchgen/*\n",
            "Proceed (Y/n)? Y\n",
            "  Successfully uninstalled torch-2.5.1\n",
            "Found existing installation: torchvision 0.20.1+cu121\n",
            "Uninstalling torchvision-0.20.1+cu121:\n",
            "  Would remove:\n",
            "    /usr/local/lib/python3.10/dist-packages/torchvision-0.20.1+cu121.dist-info/*\n",
            "    /usr/local/lib/python3.10/dist-packages/torchvision.libs/libcudart.7ec1eba6.so.12\n",
            "    /usr/local/lib/python3.10/dist-packages/torchvision.libs/libjpeg.ceea7512.so.62\n",
            "    /usr/local/lib/python3.10/dist-packages/torchvision.libs/libnvjpeg.f00ca762.so.12\n",
            "    /usr/local/lib/python3.10/dist-packages/torchvision.libs/libpng16.7f72a3c5.so.16\n",
            "    /usr/local/lib/python3.10/dist-packages/torchvision.libs/libwebp.4a54d2c8.so.4\n",
            "    /usr/local/lib/python3.10/dist-packages/torchvision.libs/libz.5f199d92.so.1\n",
            "    /usr/local/lib/python3.10/dist-packages/torchvision/*\n",
            "Proceed (Y/n)? Y\n",
            "  Successfully uninstalled torchvision-0.20.1+cu121\n"
          ]
        }
      ]
    },
    {
      "cell_type": "code",
      "source": [
        "!pip install torch torchvision torchaudio --index-url https://download.pytorch.org/whl/cpu\n"
      ],
      "metadata": {
        "colab": {
          "base_uri": "https://localhost:8080/",
          "height": 536
        },
        "id": "F7DQ3Da5qkSA",
        "outputId": "47f68f67-64d5-4393-bf44-23bd2d7be149"
      },
      "execution_count": null,
      "outputs": [
        {
          "output_type": "stream",
          "name": "stdout",
          "text": [
            "Looking in indexes: https://download.pytorch.org/whl/cpu\n",
            "Collecting torch\n",
            "  Downloading https://download.pytorch.org/whl/cpu/torch-2.5.1%2Bcpu-cp310-cp310-linux_x86_64.whl (174.7 MB)\n",
            "\u001b[2K     \u001b[90m━━━━━━━━━━━━━━━━━━━━━━━━━━━━━━━━━━━━━━━━\u001b[0m \u001b[32m174.7/174.7 MB\u001b[0m \u001b[31m4.7 MB/s\u001b[0m eta \u001b[36m0:00:00\u001b[0m\n",
            "\u001b[?25hCollecting torchvision\n",
            "  Downloading https://download.pytorch.org/whl/cpu/torchvision-0.20.1%2Bcpu-cp310-cp310-linux_x86_64.whl (1.8 MB)\n",
            "\u001b[2K     \u001b[90m━━━━━━━━━━━━━━━━━━━━━━━━━━━━━━━━━━━━━━━━\u001b[0m \u001b[32m1.8/1.8 MB\u001b[0m \u001b[31m16.1 MB/s\u001b[0m eta \u001b[36m0:00:00\u001b[0m\n",
            "\u001b[?25hRequirement already satisfied: torchaudio in /usr/local/lib/python3.10/dist-packages (2.5.1+cu121)\n",
            "Requirement already satisfied: filelock in /usr/local/lib/python3.10/dist-packages (from torch) (3.16.1)\n",
            "Requirement already satisfied: typing-extensions>=4.8.0 in /usr/local/lib/python3.10/dist-packages (from torch) (4.12.2)\n",
            "Requirement already satisfied: networkx in /usr/local/lib/python3.10/dist-packages (from torch) (3.4.2)\n",
            "Requirement already satisfied: jinja2 in /usr/local/lib/python3.10/dist-packages (from torch) (3.1.4)\n",
            "Requirement already satisfied: fsspec in /usr/local/lib/python3.10/dist-packages (from torch) (2024.3.1)\n",
            "Requirement already satisfied: sympy==1.13.1 in /usr/local/lib/python3.10/dist-packages (from torch) (1.13.1)\n",
            "Requirement already satisfied: mpmath<1.4,>=1.1.0 in /usr/local/lib/python3.10/dist-packages (from sympy==1.13.1->torch) (1.3.0)\n",
            "Requirement already satisfied: numpy in /usr/local/lib/python3.10/dist-packages (from torchvision) (1.26.4)\n",
            "Requirement already satisfied: pillow!=8.3.*,>=5.3.0 in /usr/local/lib/python3.10/dist-packages (from torchvision) (11.0.0)\n",
            "Requirement already satisfied: MarkupSafe>=2.0 in /usr/local/lib/python3.10/dist-packages (from jinja2->torch) (3.0.2)\n",
            "Installing collected packages: torch, torchvision\n",
            "\u001b[31mERROR: pip's dependency resolver does not currently take into account all the packages that are installed. This behaviour is the source of the following dependency conflicts.\n",
            "ragstack-ai-colbert 1.0.6 requires torch==2.2.1, but you have torch 2.5.1+cpu which is incompatible.\u001b[0m\u001b[31m\n",
            "\u001b[0mSuccessfully installed torch-2.5.1+cpu torchvision-0.20.1+cpu\n"
          ]
        },
        {
          "output_type": "display_data",
          "data": {
            "application/vnd.colab-display-data+json": {
              "pip_warning": {
                "packages": [
                  "torch",
                  "torchgen"
                ]
              },
              "id": "2da008156e534b5fac050da80a5ad805"
            }
          },
          "metadata": {}
        }
      ]
    },
    {
      "cell_type": "code",
      "source": [
        "\n",
        "from llama_index.core.indices import MultiModalVectorStoreIndex\n",
        "from llama_index.core import SimpleDirectoryReader\n",
        "from llama_index.core import StorageContext"
      ],
      "metadata": {
        "id": "ysmiXN2Frjjy"
      },
      "execution_count": null,
      "outputs": []
    },
    {
      "cell_type": "code",
      "source": [
        "docs = SimpleDirectoryReader('/content/data').load_data()"
      ],
      "metadata": {
        "id": "yJ5ezx6L0cx0"
      },
      "execution_count": null,
      "outputs": []
    },
    {
      "cell_type": "code",
      "source": [
        "!pip install pinecone langchain-pinecone\n",
        "clear_output()"
      ],
      "metadata": {
        "id": "fVMexwpU07Mw"
      },
      "execution_count": null,
      "outputs": []
    },
    {
      "cell_type": "code",
      "source": [
        "from pinecone import Pinecone"
      ],
      "metadata": {
        "id": "8gt_Cffb0-w8"
      },
      "execution_count": null,
      "outputs": []
    },
    {
      "cell_type": "code",
      "source": [
        "pc = Pinecone(api_key=\"pcsk_3VQpwL_Ug9423gxoBmwAYRETuTpECqwNp4bRoR43Juuh3gxpAR48XDhWGFeUZxep94g3h7\")\n",
        "index = pc.Index(\"langchainindex\")"
      ],
      "metadata": {
        "id": "aDQu4PJN1IMg"
      },
      "execution_count": null,
      "outputs": []
    },
    {
      "cell_type": "code",
      "source": [
        "from langchain_pinecone import PineconeVectorStore\n",
        "vector_store = PineconeVectorStore(index_name=\"langchainindex\",embedding=)"
      ],
      "metadata": {
        "colab": {
          "base_uri": "https://localhost:8080/",
          "height": 309
        },
        "id": "7iu5gJ0Q04Xe",
        "outputId": "fd037b8f-e282-4942-a4aa-c23c0486ad0f"
      },
      "execution_count": null,
      "outputs": [
        {
          "output_type": "error",
          "ename": "ValueError",
          "evalue": "Embedding must be provided",
          "traceback": [
            "\u001b[0;31m---------------------------------------------------------------------------\u001b[0m",
            "\u001b[0;31mValueError\u001b[0m                                Traceback (most recent call last)",
            "\u001b[0;32m<ipython-input-22-d75fb4645697>\u001b[0m in \u001b[0;36m<cell line: 2>\u001b[0;34m()\u001b[0m\n\u001b[1;32m      1\u001b[0m \u001b[0;32mfrom\u001b[0m \u001b[0mlangchain_pinecone\u001b[0m \u001b[0;32mimport\u001b[0m \u001b[0mPineconeVectorStore\u001b[0m\u001b[0;34m\u001b[0m\u001b[0;34m\u001b[0m\u001b[0m\n\u001b[0;32m----> 2\u001b[0;31m \u001b[0mvector_store\u001b[0m \u001b[0;34m=\u001b[0m \u001b[0mPineconeVectorStore\u001b[0m\u001b[0;34m(\u001b[0m\u001b[0mindex_name\u001b[0m\u001b[0;34m=\u001b[0m\u001b[0;34m\"langchainindex\"\u001b[0m\u001b[0;34m)\u001b[0m\u001b[0;34m\u001b[0m\u001b[0;34m\u001b[0m\u001b[0m\n\u001b[0m",
            "\u001b[0;32m/usr/local/lib/python3.10/dist-packages/langchain_pinecone/vectorstores.py\u001b[0m in \u001b[0;36m__init__\u001b[0;34m(self, index, embedding, text_key, namespace, distance_strategy, pinecone_api_key, index_name)\u001b[0m\n\u001b[1;32m     70\u001b[0m     ):\n\u001b[1;32m     71\u001b[0m         \u001b[0;32mif\u001b[0m \u001b[0membedding\u001b[0m \u001b[0;32mis\u001b[0m \u001b[0;32mNone\u001b[0m\u001b[0;34m:\u001b[0m\u001b[0;34m\u001b[0m\u001b[0;34m\u001b[0m\u001b[0m\n\u001b[0;32m---> 72\u001b[0;31m             \u001b[0;32mraise\u001b[0m \u001b[0mValueError\u001b[0m\u001b[0;34m(\u001b[0m\u001b[0;34m\"Embedding must be provided\"\u001b[0m\u001b[0;34m)\u001b[0m\u001b[0;34m\u001b[0m\u001b[0;34m\u001b[0m\u001b[0m\n\u001b[0m\u001b[1;32m     73\u001b[0m         \u001b[0mself\u001b[0m\u001b[0;34m.\u001b[0m\u001b[0m_embedding\u001b[0m \u001b[0;34m=\u001b[0m \u001b[0membedding\u001b[0m\u001b[0;34m\u001b[0m\u001b[0;34m\u001b[0m\u001b[0m\n\u001b[1;32m     74\u001b[0m         \u001b[0;32mif\u001b[0m \u001b[0mtext_key\u001b[0m \u001b[0;32mis\u001b[0m \u001b[0;32mNone\u001b[0m\u001b[0;34m:\u001b[0m\u001b[0;34m\u001b[0m\u001b[0;34m\u001b[0m\u001b[0m\n",
            "\u001b[0;31mValueError\u001b[0m: Embedding must be provided"
          ]
        }
      ]
    },
    {
      "cell_type": "code",
      "source": [
        "index = MultiModalVectorStoreIndex.from_documents(docs, vector_store=vector_store)"
      ],
      "metadata": {
        "colab": {
          "base_uri": "https://localhost:8080/"
        },
        "id": "J6MIZRsX0tDg",
        "outputId": "48c4f14c-bc1d-452b-a0a5-0857738a5ff1"
      },
      "execution_count": null,
      "outputs": [
        {
          "output_type": "execute_result",
          "data": {
            "text/plain": [
              "[ImageDocument(id_='bca3126d-3e62-4791-ba54-b21dfe331167', embedding=None, metadata={'file_path': '/content/data/download.jpeg', 'file_name': 'download.jpeg', 'file_type': 'image/jpeg', 'file_size': 6054, 'creation_date': '2024-12-07', 'last_modified_date': '2024-12-07'}, excluded_embed_metadata_keys=['file_name', 'file_type', 'file_size', 'creation_date', 'last_modified_date', 'last_accessed_date'], excluded_llm_metadata_keys=['file_name', 'file_type', 'file_size', 'creation_date', 'last_modified_date', 'last_accessed_date'], relationships={}, text='', mimetype='text/plain', start_char_idx=None, end_char_idx=None, text_template='{metadata_str}\\n\\n{content}', metadata_template='{key}: {value}', metadata_seperator='\\n', image=None, image_path='/content/data/download.jpeg', image_url=None, image_mimetype=None, text_embedding=None)]"
            ]
          },
          "metadata": {},
          "execution_count": 11
        }
      ]
    },
    {
      "cell_type": "code",
      "source": [
        "from transformers import CLIPProcessor, CLIPModel\n",
        "from PIL import Image\n",
        "import torch\n",
        "\n",
        "# Load the CLIP model and processor\n",
        "clip_model = CLIPModel.from_pretrained(\"openai/clip-vit-base-patch32\")\n",
        "clip_processor = CLIPProcessor.from_pretrained(\"openai/clip-vit-base-patch32\")\n",
        "\n",
        "def generate_clip_embeddings(image_path=None, text=None):\n",
        "    \"\"\"\n",
        "    Generate CLIP embeddings for an image or text.\n",
        "    \"\"\"\n",
        "    inputs = {}\n",
        "    if image_path:\n",
        "        image = Image.open(image_path).convert(\"RGB\")\n",
        "        inputs[\"images\"] = image\n",
        "    if text:\n",
        "        inputs[\"text\"] = [text]\n",
        "\n",
        "    processed_inputs = clip_processor(**inputs, return_tensors=\"pt\", padding=True)\n",
        "    with torch.no_grad():\n",
        "        if image_path:\n",
        "            image_embeddings = clip_model.get_image_features(**processed_inputs)\n",
        "            image_embeddings = image_embeddings / image_embeddings.norm(p=2, dim=-1, keepdim=True)\n",
        "            return image_embeddings.numpy()\n",
        "        if text:\n",
        "            text_embeddings = clip_model.get_text_features(**processed_inputs)\n",
        "            text_embeddings = text_embeddings / text_embeddings.norm(p=2, dim=-1, keepdim=True)\n",
        "            return text_embeddings.numpy()\n"
      ],
      "metadata": {
        "id": "0ySoU1Yk0uVS"
      },
      "execution_count": null,
      "outputs": []
    },
    {
      "cell_type": "code",
      "source": [
        "image_embedding = generate_clip_embeddings(image_path=\"/content/data/download.jpeg\")"
      ],
      "metadata": {
        "id": "ufie1G6z4PG1"
      },
      "execution_count": null,
      "outputs": []
    },
    {
      "cell_type": "code",
      "source": [
        "from google.colab import drive\n",
        "drive.mount('/content/drive')"
      ],
      "metadata": {
        "id": "Uz3ZQk0wHZAQ"
      },
      "execution_count": null,
      "outputs": []
    },
    {
      "cell_type": "code",
      "source": [
        "image_embedding"
      ],
      "metadata": {
        "colab": {
          "base_uri": "https://localhost:8080/"
        },
        "id": "pMIQDxfG4XuU",
        "outputId": "6b48ac37-3a37-45e5-e409-ca2f01e18f79"
      },
      "execution_count": null,
      "outputs": [
        {
          "output_type": "execute_result",
          "data": {
            "text/plain": [
              "array([[-5.29346243e-02, -1.36802290e-02,  2.16149911e-03,\n",
              "         1.77319199e-02, -5.55728935e-02,  2.94707268e-02,\n",
              "        -6.20574690e-02, -1.41594291e-03,  2.99078086e-03,\n",
              "        -3.09684798e-02,  2.96314303e-02, -4.38055024e-02,\n",
              "        -7.81889409e-02, -1.53695913e-02, -2.39606332e-02,\n",
              "         2.77517047e-02,  1.05273947e-01,  8.04646779e-03,\n",
              "        -1.24256536e-02,  1.69399325e-02, -2.89970804e-02,\n",
              "        -5.54741956e-02, -1.24168610e-02, -2.40119956e-02,\n",
              "        -1.56682879e-02,  1.34524386e-02,  3.12115029e-02,\n",
              "         9.10942722e-03,  2.29673516e-02, -4.19552363e-02,\n",
              "        -2.22787410e-02, -5.78100309e-02,  2.87279719e-03,\n",
              "        -1.55258914e-02, -3.06952856e-02,  6.46977033e-03,\n",
              "         3.87311950e-02,  3.60706449e-02, -1.74273290e-02,\n",
              "         1.07870027e-01,  4.05005005e-04, -2.65874602e-02,\n",
              "        -1.62548590e-02, -5.59334010e-02,  5.05893081e-02,\n",
              "         2.50328775e-03,  5.62530942e-03, -1.16742710e-02,\n",
              "         3.53242755e-02, -2.18578279e-02,  2.68512964e-02,\n",
              "         6.12481646e-02, -2.66419463e-02, -9.64172743e-03,\n",
              "        -5.73092028e-02, -5.15890168e-03,  1.30931707e-02,\n",
              "         3.86156328e-02, -2.39700787e-02,  6.61073923e-02,\n",
              "         7.82888085e-02,  3.81312668e-02, -1.64246038e-02,\n",
              "         8.41418840e-03,  1.29387737e-03, -5.06020449e-02,\n",
              "        -3.17947865e-02, -1.23255393e-02, -2.47236397e-02,\n",
              "        -4.38251458e-02, -6.03750488e-03, -3.34650688e-02,\n",
              "        -2.41979249e-02, -2.71792617e-03, -2.83742584e-02,\n",
              "        -1.50065534e-02, -3.83927152e-02, -8.75931010e-02,\n",
              "        -1.60332192e-02,  1.05664544e-02, -2.77647795e-03,\n",
              "        -1.85301397e-02, -1.43474014e-02,  2.69585270e-02,\n",
              "        -3.55696632e-03, -1.70370135e-02,  1.87554825e-02,\n",
              "        -3.11029162e-02,  1.38636548e-02, -2.70037372e-02,\n",
              "        -3.34161855e-02, -1.08716078e-02, -4.67287362e-01,\n",
              "         2.53913403e-02,  1.11474534e-02,  4.37980518e-02,\n",
              "         4.78178589e-03,  4.54353243e-02, -8.45297799e-02,\n",
              "         1.37182148e-02, -3.54843140e-02, -4.07100320e-02,\n",
              "         7.41775334e-02,  2.57358830e-02,  3.31997089e-02,\n",
              "         3.24875265e-02, -1.07852437e-01, -3.08724307e-03,\n",
              "         1.77508220e-02,  2.91217305e-02,  8.70167091e-03,\n",
              "         8.60503763e-02, -2.07047770e-03, -1.17428852e-02,\n",
              "        -5.39735742e-02, -3.31811644e-02, -2.79342034e-03,\n",
              "        -8.96693673e-03,  2.57523414e-02, -8.06158129e-03,\n",
              "        -3.62594496e-03,  5.12872636e-02,  6.55010864e-02,\n",
              "         8.71318020e-03,  3.40006612e-02, -6.16570897e-02,\n",
              "         2.50295829e-03, -6.87219296e-03,  5.25024533e-02,\n",
              "         3.42242196e-02,  4.20227135e-03,  1.44236377e-02,\n",
              "         8.31394549e-03,  8.04802924e-02,  2.22698320e-02,\n",
              "        -2.27932353e-02, -2.02680985e-03, -4.28102724e-02,\n",
              "         1.71270743e-02, -2.23883092e-02,  1.85885199e-03,\n",
              "         4.38661352e-02, -2.90854611e-02,  3.61275524e-02,\n",
              "        -2.37332862e-02,  3.20316888e-02, -2.21802220e-02,\n",
              "         4.02071960e-02,  2.60162707e-02,  2.89224889e-02,\n",
              "         2.53590792e-02,  4.53077210e-03,  7.14537874e-02,\n",
              "         1.06341243e-02, -3.43552344e-02,  2.56784037e-02,\n",
              "         4.61088084e-02,  2.58206856e-02,  2.70646308e-02,\n",
              "         5.91589930e-03, -1.86924823e-02,  9.49607603e-03,\n",
              "        -1.24054425e-03,  2.21785326e-02,  4.91546988e-02,\n",
              "        -2.21031215e-02,  1.60690732e-02, -5.65582961e-02,\n",
              "         2.04350203e-02, -7.40332005e-04, -5.85099570e-02,\n",
              "        -2.58286148e-02, -8.34681734e-04,  2.27097161e-02,\n",
              "        -4.04885039e-02, -1.71477553e-02, -2.01671873e-03,\n",
              "        -6.45314110e-03,  3.08924615e-02, -7.31688067e-02,\n",
              "         1.01379931e-01,  1.77310035e-02,  1.02147572e-02,\n",
              "         1.00729913e-02, -9.10217687e-03,  2.97995340e-02,\n",
              "        -1.32251913e-02,  7.82024395e-03,  1.54437535e-02,\n",
              "         2.31875740e-02, -3.41224782e-02, -8.23034346e-03,\n",
              "         5.77299669e-02,  1.53561123e-02,  8.47062245e-02,\n",
              "         7.16735721e-02,  6.34960458e-03, -1.45221055e-02,\n",
              "         5.41405492e-02,  2.62200758e-02,  4.75228671e-03,\n",
              "        -2.26033921e-03,  8.82409140e-02,  9.19569470e-03,\n",
              "        -1.84019692e-02, -1.02637019e-02, -3.98629308e-02,\n",
              "        -3.42960171e-02, -2.40554428e-03,  4.38561700e-02,\n",
              "        -1.58239529e-02,  5.73185496e-02,  4.37334813e-02,\n",
              "        -6.05732612e-02, -4.61926982e-02,  9.96947102e-03,\n",
              "         4.15628962e-02,  6.61012605e-02,  5.70427105e-02,\n",
              "         7.50056729e-02,  1.87443495e-02, -9.46523994e-02,\n",
              "         8.40583295e-02,  3.04569397e-02, -6.40583178e-03,\n",
              "        -3.47344019e-02,  8.12983736e-02, -5.72629832e-03,\n",
              "        -2.69620288e-02, -7.43565289e-03,  2.31434908e-02,\n",
              "        -5.83423786e-02, -4.08454426e-02,  5.34450561e-02,\n",
              "         5.56505397e-02, -2.63056550e-02, -4.30593602e-02,\n",
              "        -1.48272924e-02,  1.66794956e-02, -3.47243585e-02,\n",
              "         2.73281485e-02, -1.39826955e-02,  3.40040065e-02,\n",
              "        -1.96019770e-03, -1.29466616e-02, -5.09304367e-02,\n",
              "        -5.56654483e-02,  4.12500836e-02, -2.28967518e-02,\n",
              "        -3.50081660e-02, -4.55512386e-03, -3.53817679e-02,\n",
              "         6.44061491e-02, -4.36811447e-02,  1.91451982e-02,\n",
              "         6.15259074e-03,  2.45249178e-02, -1.07765496e-02,\n",
              "        -6.31786808e-02,  1.58805735e-02,  1.70620643e-02,\n",
              "         6.52883723e-02, -5.48778996e-02,  1.88514590e-02,\n",
              "        -7.16920570e-03,  7.97626600e-02,  6.66756975e-03,\n",
              "         7.50284409e-03,  2.19984557e-02, -2.12684926e-02,\n",
              "        -1.11655863e-02, -1.27853593e-02, -1.60122495e-02,\n",
              "         1.86165441e-02, -3.64086889e-02, -4.12145332e-02,\n",
              "         3.00799105e-02, -7.01836869e-02, -1.10824825e-02,\n",
              "         3.58901247e-02,  7.31536560e-03, -8.55445955e-03,\n",
              "         9.00883414e-03,  3.36768106e-03, -1.58344973e-02,\n",
              "        -2.06557568e-02,  1.81293994e-01,  6.53179595e-03,\n",
              "        -2.89450809e-02, -1.07977837e-02,  1.21850129e-02,\n",
              "         3.36651541e-02, -3.27273309e-02,  7.96042010e-02,\n",
              "         1.42588024e-03,  2.24364102e-02, -2.07383721e-03,\n",
              "        -1.48304850e-02,  1.62789132e-02,  7.70387203e-02,\n",
              "        -1.60534475e-02,  6.36797622e-02,  2.86157764e-02,\n",
              "        -2.13769227e-02, -3.04617523e-03,  1.42617070e-03,\n",
              "        -4.69972081e-02,  6.40218332e-02, -3.50310765e-02,\n",
              "        -1.27734393e-02, -4.32666205e-02, -3.32614221e-03,\n",
              "         8.02917331e-02,  3.99625450e-02, -3.41394991e-02,\n",
              "        -3.31495889e-02,  1.01275789e-02, -4.15122835e-04,\n",
              "         5.78240678e-02,  1.53057715e-02, -3.86763774e-02,\n",
              "         7.70216733e-02,  5.32994047e-02, -8.36415291e-02,\n",
              "         3.09443921e-02,  1.92692643e-03,  2.59490851e-02,\n",
              "        -1.86156817e-02,  5.63253425e-02, -3.41617428e-02,\n",
              "         2.43188590e-02, -3.49922590e-02, -1.74142364e-02,\n",
              "        -9.60379466e-03, -2.60465890e-02, -3.48756090e-02,\n",
              "        -2.24601533e-02,  7.61823170e-03, -5.87844104e-03,\n",
              "        -5.39526390e-03, -5.30195534e-02,  3.58747579e-02,\n",
              "        -3.16569917e-02,  8.14593956e-03,  3.79524194e-02,\n",
              "        -8.42032488e-03, -1.74443852e-02, -4.13748845e-02,\n",
              "        -1.47336861e-02,  2.05941759e-02, -6.38140142e-02,\n",
              "         4.83463556e-02, -4.54580598e-03,  7.67909596e-03,\n",
              "        -9.89773683e-03,  2.12339708e-03, -6.55227080e-02,\n",
              "         8.33222736e-03,  5.52110374e-03, -1.73862986e-02,\n",
              "         6.68417439e-02, -1.60508770e-02,  1.44543443e-02,\n",
              "         1.98577736e-02,  1.12569910e-02,  2.58360952e-02,\n",
              "         1.57012660e-02,  3.23461853e-02,  2.23627277e-02,\n",
              "        -1.61153525e-02,  1.72372162e-02,  4.29067835e-02,\n",
              "         2.31465977e-02, -1.48374890e-03, -5.94710000e-02,\n",
              "        -3.08379587e-02,  1.13368602e-02, -2.20874026e-02,\n",
              "         7.27568865e-02,  7.53089786e-04, -1.13066742e-02,\n",
              "         1.29344957e-02, -3.56409475e-02, -2.48559453e-02,\n",
              "        -2.23054108e-03,  1.15290638e-02,  1.61670465e-02,\n",
              "         3.41978632e-02,  5.91878854e-02, -3.44350561e-02,\n",
              "        -5.15859351e-02, -1.81516167e-02, -7.24115875e-03,\n",
              "         3.82816279e-03, -7.03644529e-02,  2.77663767e-03,\n",
              "         1.88527927e-02, -6.51010349e-02,  3.99572849e-02,\n",
              "        -3.45573127e-02,  1.72165129e-02, -8.75905715e-03,\n",
              "         9.62623134e-02, -6.77870587e-02, -5.25377085e-03,\n",
              "        -1.00329099e-02, -8.43563396e-03,  5.69614135e-02,\n",
              "        -3.20805572e-02, -8.10544286e-03,  3.36601362e-02,\n",
              "         2.64671333e-02,  1.48521885e-02,  2.80249789e-02,\n",
              "        -2.72856932e-03,  7.63179734e-02, -8.62501282e-03,\n",
              "         3.45944334e-03, -2.79491898e-02,  1.41018070e-02,\n",
              "         9.75623354e-02,  2.65615471e-02,  2.69221477e-02,\n",
              "         1.16547145e-01,  3.19048017e-03, -1.27371191e-03,\n",
              "         2.66685747e-02, -5.14542013e-02, -2.10757598e-01,\n",
              "        -6.79663941e-02,  1.10078929e-02, -1.81319788e-02,\n",
              "         3.52069810e-02, -3.85601819e-02, -1.23183271e-02,\n",
              "        -8.60621594e-03, -5.02530038e-02,  3.07064317e-02,\n",
              "         6.07073419e-02,  3.80401015e-02,  1.49876233e-02,\n",
              "        -3.73357385e-02,  2.00397596e-02,  2.63415892e-02,\n",
              "        -3.89433117e-03, -4.96187136e-02, -1.65860001e-02,\n",
              "        -1.41831283e-02,  4.37096634e-04, -2.70731524e-02,\n",
              "        -1.14412960e-02,  5.52175567e-02,  6.65867236e-03,\n",
              "         8.43118876e-03, -1.48253515e-02,  1.41843855e-02,\n",
              "        -3.14613655e-02,  4.58250530e-02, -3.96521017e-02,\n",
              "        -2.23745275e-02, -3.48525774e-03,  1.46815060e-02,\n",
              "         5.39820008e-02,  1.72150265e-02,  6.45967498e-02,\n",
              "        -3.21174860e-02,  3.85736749e-02, -4.37243655e-02,\n",
              "        -1.65818483e-02, -4.25549969e-02,  6.73523697e-04,\n",
              "         7.45523302e-03,  4.92966846e-02, -7.27424994e-02,\n",
              "         7.30580837e-02, -3.65476385e-02, -3.99745926e-02,\n",
              "         5.58119975e-02, -4.02605198e-02, -9.88639612e-03,\n",
              "         3.19553330e-03, -5.51085621e-02,  3.02936491e-02,\n",
              "        -3.25555727e-02, -1.62296779e-02,  5.63235506e-02,\n",
              "         8.59116837e-02, -7.00762216e-03,  2.60635745e-02,\n",
              "        -4.98738624e-02,  2.93254033e-02, -2.84410883e-02,\n",
              "         9.50711593e-03, -4.83861715e-02, -3.64375748e-02,\n",
              "        -2.24192180e-02, -3.13568898e-02, -2.80861929e-02,\n",
              "         7.40643144e-02, -2.79884972e-03, -1.93254221e-02,\n",
              "        -9.49072000e-03, -3.39172371e-02,  3.12614329e-02,\n",
              "        -1.72709152e-02, -7.77981058e-03, -4.84089106e-02,\n",
              "         3.81750725e-02,  1.01229250e-02, -1.08855665e-02,\n",
              "         3.53481099e-02,  2.11827047e-02]], dtype=float32)"
            ]
          },
          "metadata": {},
          "execution_count": 25
        }
      ]
    },
    {
      "cell_type": "code",
      "source": [],
      "metadata": {
        "id": "K1iMOARl4abw"
      },
      "execution_count": null,
      "outputs": []
    }
  ]
}