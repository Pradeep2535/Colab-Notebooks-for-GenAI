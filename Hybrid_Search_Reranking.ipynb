{
  "nbformat": 4,
  "nbformat_minor": 0,
  "metadata": {
    "colab": {
      "provenance": [],
      "gpuType": "T4",
      "authorship_tag": "ABX9TyMket3IpDJpmrDVaWTyTbxv",
      "include_colab_link": true
    },
    "kernelspec": {
      "name": "python3",
      "display_name": "Python 3"
    },
    "language_info": {
      "name": "python"
    },
    "accelerator": "GPU"
  },
  "cells": [
    {
      "cell_type": "markdown",
      "metadata": {
        "id": "view-in-github",
        "colab_type": "text"
      },
      "source": [
        "<a href=\"https://colab.research.google.com/github/Pradeep2535/Colab-Notebooks-for-GenAI/blob/main/Hybrid_Search_Reranking.ipynb\" target=\"_parent\"><img src=\"https://colab.research.google.com/assets/colab-badge.svg\" alt=\"Open In Colab\"/></a>"
      ]
    },
    {
      "cell_type": "code",
      "execution_count": null,
      "metadata": {
        "id": "zyNcwap4bvYG"
      },
      "outputs": [],
      "source": [
        "from sklearn.feature_extraction.text import TfidfVectorizer\n",
        "from sklearn.metrics.pairwise import cosine_similarity\n",
        "import numpy as np"
      ]
    },
    {
      "cell_type": "code",
      "source": [
        "#Sample documents\n",
        "\n",
        "documents = [\n",
        "\n",
        "\n",
        "\n",
        "\"This is a list which containig sample documents.\",\n",
        "\n",
        "\"Keywords are important for keyword-based search.\",\n",
        "\n",
        "\"Document analysis involves extracting keywords.\",\n",
        "\n",
        "\"Keyword-based search relies on sparse embeddings.\"\n",
        "]"
      ],
      "metadata": {
        "id": "CG-PyeAMcqH3"
      },
      "execution_count": null,
      "outputs": []
    },
    {
      "cell_type": "code",
      "source": [
        "import re\n",
        "\n",
        "def preprocess_text(text):\n",
        "\n",
        "  text =text.lower()\n",
        "  text =re.sub(r' [^\\w\\s]', '', text)\n",
        "\n",
        "  return text"
      ],
      "metadata": {
        "id": "zYqFsYPMc712"
      },
      "execution_count": null,
      "outputs": []
    },
    {
      "cell_type": "code",
      "source": [
        "preprocess_documents = [preprocess_text(doc) for doc in documents]"
      ],
      "metadata": {
        "id": "9waNzOtsdJ8F"
      },
      "execution_count": null,
      "outputs": []
    },
    {
      "cell_type": "code",
      "source": [
        "preprocess_documents"
      ],
      "metadata": {
        "id": "ioZOb03cdSk1"
      },
      "execution_count": null,
      "outputs": []
    },
    {
      "cell_type": "code",
      "source": [
        "preprocessed_query = preprocess_text(\"Keyword-based search\")"
      ],
      "metadata": {
        "id": "xgGAJFoCdWFK"
      },
      "execution_count": null,
      "outputs": []
    },
    {
      "cell_type": "code",
      "source": [
        "preprocessed_query"
      ],
      "metadata": {
        "id": "Z8lWFnwndn-N"
      },
      "execution_count": null,
      "outputs": []
    },
    {
      "cell_type": "code",
      "source": [
        "vector = TfidfVectorizer()"
      ],
      "metadata": {
        "id": "eNfNqNk5dph9"
      },
      "execution_count": null,
      "outputs": []
    },
    {
      "cell_type": "code",
      "source": [
        "X = vector.fit_transform(preprocess_documents)"
      ],
      "metadata": {
        "id": "mH1yf4FHdyUw"
      },
      "execution_count": null,
      "outputs": []
    },
    {
      "cell_type": "code",
      "source": [
        "X.toarray()"
      ],
      "metadata": {
        "id": "J-j5fNhad2id"
      },
      "execution_count": null,
      "outputs": []
    },
    {
      "cell_type": "code",
      "source": [
        "query_embedding=vector.transform([preprocessed_query])"
      ],
      "metadata": {
        "id": "DxMK-Ubdd39d"
      },
      "execution_count": null,
      "outputs": []
    },
    {
      "cell_type": "code",
      "source": [
        "query_embedding.toarray()"
      ],
      "metadata": {
        "id": "IK1mEyOHeDuK"
      },
      "execution_count": null,
      "outputs": []
    },
    {
      "cell_type": "code",
      "source": [
        "similarities = cosine_similarity(X, query_embedding)"
      ],
      "metadata": {
        "id": "fAB1LCPVebJt"
      },
      "execution_count": null,
      "outputs": []
    },
    {
      "cell_type": "code",
      "source": [
        "similarities"
      ],
      "metadata": {
        "id": "KlE3ECccfKR1"
      },
      "execution_count": null,
      "outputs": []
    },
    {
      "cell_type": "code",
      "source": [
        "ranked_documents = [documents[i] for i in ranked_indices]"
      ],
      "metadata": {
        "id": "k_Q49LRIf_BQ"
      },
      "execution_count": null,
      "outputs": []
    },
    {
      "cell_type": "code",
      "source": [
        "ranked_indices=np.argsort(similarities, axis=0)[::-1].flatten()"
      ],
      "metadata": {
        "id": "hGWM_-fhfOb5"
      },
      "execution_count": null,
      "outputs": []
    },
    {
      "cell_type": "code",
      "source": [
        "ranked_indices"
      ],
      "metadata": {
        "id": "j0vjIbEifVcB"
      },
      "execution_count": null,
      "outputs": []
    },
    {
      "cell_type": "code",
      "source": [
        "for i,doc in enumerate(ranked_documents):\n",
        "  print(f\"Rank {i+1}: {doc}\")"
      ],
      "metadata": {
        "id": "hWplNyaffWSx"
      },
      "execution_count": null,
      "outputs": []
    },
    {
      "cell_type": "code",
      "source": [
        "query=\"Keyword-based search\""
      ],
      "metadata": {
        "id": "PB38xmvMgEaV"
      },
      "execution_count": null,
      "outputs": []
    },
    {
      "cell_type": "code",
      "source": [
        "document_embeddings = np.array([\n",
        "[0.634, 0.234, 0.867, 0.042, 0.249],\n",
        "[0.123, 0.456, 0.789, 0.321, 0.654],\n",
        "[0.987, 0.654, 0.321, 0.123, 0.456]])"
      ],
      "metadata": {
        "id": "SvDo0VnJgH3Q"
      },
      "execution_count": null,
      "outputs": []
    },
    {
      "cell_type": "code",
      "source": [
        "query_embedding = np.array([[0.789, 0.321,0.654,0.987,0.123]])"
      ],
      "metadata": {
        "id": "9iDlBTVOghsV"
      },
      "execution_count": null,
      "outputs": []
    },
    {
      "cell_type": "code",
      "source": [
        "similarities = cosine_similarity(document_embeddings, query_embedding)"
      ],
      "metadata": {
        "id": "LH2Ax0XHg0Lx"
      },
      "execution_count": null,
      "outputs": []
    },
    {
      "cell_type": "code",
      "source": [
        "ranked_indices=np.argsort(similarities, axis=0)[::-1].flatten()"
      ],
      "metadata": {
        "id": "hlQ9CQk7g2oZ"
      },
      "execution_count": null,
      "outputs": []
    },
    {
      "cell_type": "code",
      "source": [
        "ranked_indices=np.argsort(similarities, axis=0)[::-1].flatten()"
      ],
      "metadata": {
        "id": "90Fs1PCPg7j0"
      },
      "execution_count": null,
      "outputs": []
    },
    {
      "cell_type": "code",
      "source": [
        "ranked_indices"
      ],
      "metadata": {
        "id": "iXE4gUUUhTXZ"
      },
      "execution_count": null,
      "outputs": []
    },
    {
      "cell_type": "code",
      "source": [
        "for i,idx in enumerate(ranked_indices):\n",
        "  print(f\"Rank {i+1}: Document {idx+1}\")"
      ],
      "metadata": {
        "id": "H5y3tsc5hU9R"
      },
      "execution_count": null,
      "outputs": []
    },
    {
      "cell_type": "code",
      "source": [
        "doc_path = \"/content/2005.11401v4.pdf\""
      ],
      "metadata": {
        "id": "fBIRVOT4hhkR"
      },
      "execution_count": null,
      "outputs": []
    },
    {
      "cell_type": "code",
      "source": [
        "!pip install pypdf langchain_community"
      ],
      "metadata": {
        "id": "Av2Y2OWDhufN"
      },
      "execution_count": null,
      "outputs": []
    },
    {
      "cell_type": "code",
      "source": [
        "from langchain_community.document_loaders import PyPDFLoader"
      ],
      "metadata": {
        "id": "dpqvdUx8h1Ut"
      },
      "execution_count": null,
      "outputs": []
    },
    {
      "cell_type": "code",
      "source": [
        "loader=PyPDFLoader(doc_path)"
      ],
      "metadata": {
        "id": "S26Jd60Ah-49"
      },
      "execution_count": null,
      "outputs": []
    },
    {
      "cell_type": "code",
      "source": [
        "docs=loader.load()"
      ],
      "metadata": {
        "id": "54IokOj9iCRR"
      },
      "execution_count": null,
      "outputs": []
    },
    {
      "cell_type": "code",
      "source": [
        "from langchain.text_splitter import RecursiveCharacterTextSplitter"
      ],
      "metadata": {
        "id": "dxPbX2Gmihuc"
      },
      "execution_count": null,
      "outputs": []
    },
    {
      "cell_type": "code",
      "source": [
        "splitter = RecursiveCharacterTextSplitter(chunk_size=200, chunk_overlap=30)"
      ],
      "metadata": {
        "id": "79hgM6PkilAI"
      },
      "execution_count": null,
      "outputs": []
    },
    {
      "cell_type": "code",
      "source": [
        "chunks = splitter.split_documents(docs)"
      ],
      "metadata": {
        "id": "Fm5XNMasixMl"
      },
      "execution_count": null,
      "outputs": []
    },
    {
      "cell_type": "code",
      "source": [
        "chunks"
      ],
      "metadata": {
        "id": "2bXZZEaci0pg"
      },
      "execution_count": null,
      "outputs": []
    },
    {
      "cell_type": "code",
      "source": [
        "from langchain.embeddings import HuggingFaceInferenceAPIEmbeddings"
      ],
      "metadata": {
        "id": "HGSxKFRJi1Rw"
      },
      "execution_count": null,
      "outputs": []
    },
    {
      "cell_type": "code",
      "source": [
        "from google.colab import userdata\n",
        "\n",
        "HF_TOKEN=userdata.get(\"HF_TOKEN\")"
      ],
      "metadata": {
        "id": "ix8d4vvvjKgZ"
      },
      "execution_count": null,
      "outputs": []
    },
    {
      "cell_type": "code",
      "source": [
        "embeddings = HuggingFaceInferenceAPIEmbeddings(api_key=HF_TOKEN,model_name=\"BAAI/bge-base-en-v1.5\")"
      ],
      "metadata": {
        "id": "Aj2qedTBjWIQ"
      },
      "execution_count": null,
      "outputs": []
    },
    {
      "cell_type": "code",
      "source": [
        "!pip install chromadb"
      ],
      "metadata": {
        "id": "6XdqDR53jnvt"
      },
      "execution_count": null,
      "outputs": []
    },
    {
      "cell_type": "code",
      "source": [
        "from langchain.vectorstores import Chroma"
      ],
      "metadata": {
        "id": "DkWIiNQxjpkp"
      },
      "execution_count": null,
      "outputs": []
    },
    {
      "cell_type": "code",
      "source": [
        "vectorstore=Chroma.from_documents(chunks,embeddings)"
      ],
      "metadata": {
        "id": "q5aZib1ejwuh"
      },
      "execution_count": null,
      "outputs": []
    },
    {
      "cell_type": "code",
      "source": [
        "vectorstore_retriever=vectorstore.as_retriever(search_kwargs={\"k\":3})"
      ],
      "metadata": {
        "id": "RHjKrSCSj7W1"
      },
      "execution_count": null,
      "outputs": []
    },
    {
      "cell_type": "code",
      "source": [
        "!pip install rank_bm25"
      ],
      "metadata": {
        "id": "wlOvvssokEb9"
      },
      "execution_count": null,
      "outputs": []
    },
    {
      "cell_type": "code",
      "source": [
        "from langchain.retrievers import BM25Retriever, EnsembleRetriever"
      ],
      "metadata": {
        "id": "WPKwcMMbkMNM"
      },
      "execution_count": null,
      "outputs": []
    },
    {
      "cell_type": "code",
      "source": [
        "keyword_retreiver = BM25Retriever.from_documents(chunks)"
      ],
      "metadata": {
        "id": "ktoz33eqkZb9"
      },
      "execution_count": null,
      "outputs": []
    },
    {
      "cell_type": "code",
      "source": [
        "retreiver = EnsembleRetriever(retrievers=[vectorstore_retriever,keyword_retreiver],weights=[0.5,0.5])"
      ],
      "metadata": {
        "id": "SZITK4eZkp5d"
      },
      "execution_count": null,
      "outputs": []
    },
    {
      "cell_type": "code",
      "source": [
        "model_name=\"HuggingFaceH4/zephyr-7b-beta\""
      ],
      "metadata": {
        "id": "GNqrc9J3lOw-"
      },
      "execution_count": null,
      "outputs": []
    },
    {
      "cell_type": "code",
      "source": [
        "!pip install -U bitsandbytes"
      ],
      "metadata": {
        "id": "b6qnGoYVljnJ"
      },
      "execution_count": null,
      "outputs": []
    },
    {
      "cell_type": "code",
      "source": [
        "!pip install accelerate"
      ],
      "metadata": {
        "id": "9tGwGSIwlmAz"
      },
      "execution_count": null,
      "outputs": []
    },
    {
      "cell_type": "code",
      "source": [
        "import torch\n",
        "from transformers import (AutoModelForCausalLM, AutoTokenizer, BitsAndBytesConfig, pipeline)\n",
        "from langchain import HuggingFacePipeline"
      ],
      "metadata": {
        "id": "9cwQQbsxlsWk"
      },
      "execution_count": null,
      "outputs": []
    },
    {
      "cell_type": "code",
      "source": [
        "def load_quantized_model(model_name: str):\n",
        "\n",
        "\n",
        "\n",
        "  bnb_config = BitsAndBytesConfig(\n",
        "    load_in_4bit=True,\n",
        "    bnb_4bit_use_double_quant=True,\n",
        "    bnb_4bit_quant_type=\"nf4\",\n",
        "    bnb_4bit_compute_dtype=torch.bfloat16,\n",
        "  )\n",
        "\n",
        "  model = AutoModelForCausalLM.from_pretrained(\n",
        "    model_name,\n",
        "    torch_dtype=torch.bfloat16,\n",
        "    quantization_config=bnb_config,\n",
        "  )\n",
        "\n",
        "  return model"
      ],
      "metadata": {
        "id": "ChUTCoNfl-PH"
      },
      "execution_count": null,
      "outputs": []
    },
    {
      "cell_type": "code",
      "source": [
        "def initialize_tokenizer(model_name: str):\n",
        "  tokenizer =AutoTokenizer.from_pretrained(model_name, return_token_type_ids=False)\n",
        "\n",
        "  tokenizer.bos_token_id = 1\n",
        "\n",
        "  return tokenizer"
      ],
      "metadata": {
        "id": "i--geQbDnsmt"
      },
      "execution_count": null,
      "outputs": []
    },
    {
      "cell_type": "code",
      "source": [
        "tokenizer=initialize_tokenizer(model_name)"
      ],
      "metadata": {
        "id": "cp2EFgj1oJCE"
      },
      "execution_count": null,
      "outputs": []
    },
    {
      "cell_type": "code",
      "source": [
        "model   =load_quantized_model(model_name)"
      ],
      "metadata": {
        "id": "2G5J56Fjoju3"
      },
      "execution_count": null,
      "outputs": []
    },
    {
      "cell_type": "code",
      "source": [
        "pipeline = pipeline(\n",
        "    \"text-generation\",\n",
        "    model=model,\n",
        "    tokenizer=tokenizer,use_cache=True,device_map=\"auto\",max_length=2048,do_sample=True,top_k=5,num_return_sequences=1,eos_token_id = tokenizer.eos_token_id, pad_token_id = tokenizer.pad_token_id\n",
        ")\n"
      ],
      "metadata": {
        "id": "m9Ch63JfoPrI"
      },
      "execution_count": null,
      "outputs": []
    },
    {
      "cell_type": "code",
      "source": [
        "llm=HuggingFacePipeline(pipeline=pipeline)"
      ],
      "metadata": {
        "id": "QLq3RWi4ofOA"
      },
      "execution_count": null,
      "outputs": []
    },
    {
      "cell_type": "code",
      "source": [
        "from langchain.chains import RetrievalQA"
      ],
      "metadata": {
        "id": "-lnkZc3orcLE"
      },
      "execution_count": null,
      "outputs": []
    },
    {
      "cell_type": "code",
      "source": [
        "normal_chain = RetrievalQA.from_chain_type(llm=llm,chain_type=\"stuff\",retriever=vectorstore_retriever)"
      ],
      "metadata": {
        "id": "LHAzAeA0rhmf"
      },
      "execution_count": null,
      "outputs": []
    },
    {
      "cell_type": "code",
      "source": [
        "hybrid_chain = RetrievalQA.from_chain_type(llm=llm,chain_type=\"stuff\",retriever=retreiver)"
      ],
      "metadata": {
        "id": "_NRUVFLpruua"
      },
      "execution_count": null,
      "outputs": []
    },
    {
      "cell_type": "code",
      "source": [
        "response1=normal_chain.invoke(\"What is RAG token model?\")"
      ],
      "metadata": {
        "id": "xFWXsEEFr1v4"
      },
      "execution_count": null,
      "outputs": []
    },
    {
      "cell_type": "code",
      "source": [
        "print(response1[\"result\"])"
      ],
      "metadata": {
        "id": "zlu3Kpmtr9hQ"
      },
      "execution_count": null,
      "outputs": []
    },
    {
      "cell_type": "code",
      "source": [
        "\n",
        "response2=hybrid_chain.invoke(\"What is RAG token model?\")"
      ],
      "metadata": {
        "id": "074azVNJsAw8"
      },
      "execution_count": null,
      "outputs": []
    },
    {
      "cell_type": "code",
      "source": [
        "response2"
      ],
      "metadata": {
        "id": "hCl90sRnsJqV"
      },
      "execution_count": null,
      "outputs": []
    },
    {
      "cell_type": "code",
      "source": [
        "print(response2[\"result\"])"
      ],
      "metadata": {
        "id": "TZdlgYC2sKmW"
      },
      "execution_count": null,
      "outputs": []
    },
    {
      "cell_type": "markdown",
      "source": [
        "#Reranking"
      ],
      "metadata": {
        "id": "20Wbzyzd-LIF"
      }
    },
    {
      "cell_type": "code",
      "source": [
        "!pip install cohere"
      ],
      "metadata": {
        "id": "xjN_YSMr-rUQ"
      },
      "execution_count": null,
      "outputs": []
    },
    {
      "cell_type": "code",
      "source": [
        "COHERE_API = userdata.get(\"COHERE_API\")"
      ],
      "metadata": {
        "id": "21EHcUfgtmbQ"
      },
      "execution_count": null,
      "outputs": []
    },
    {
      "cell_type": "code",
      "source": [
        "from langchain.retrievers import ContextualCompressionRetriever\n",
        "from langchain.retrievers.document_compressors import CohereRerank"
      ],
      "metadata": {
        "id": "sIgjhA2_AMeu"
      },
      "execution_count": null,
      "outputs": []
    },
    {
      "cell_type": "code",
      "source": [
        "compressor = CohereRerank(cohere_api_key=COHERE_API)"
      ],
      "metadata": {
        "id": "uvHN1XCO95Bz"
      },
      "execution_count": null,
      "outputs": []
    },
    {
      "cell_type": "code",
      "source": [
        "compression_retriever = ContextualCompressionRetriever(\n",
        "    base_compressor=compressor, base_retriever=retreiver\n",
        "    )"
      ],
      "metadata": {
        "id": "pyKkKnC5-6iu"
      },
      "execution_count": null,
      "outputs": []
    },
    {
      "cell_type": "code",
      "source": [
        "compressed_docs = compression_retriever.get_relevant_documents(\"What is RAG token model?\")"
      ],
      "metadata": {
        "id": "udbPddKs_hEI"
      },
      "execution_count": null,
      "outputs": []
    },
    {
      "cell_type": "code",
      "source": [
        "hybrid_chain = RetrievalQA.from_chain_type(\n",
        "    llm=llm, chain_type=\"stuff\", retriever=compression_retriever\n",
        ")"
      ],
      "metadata": {
        "id": "1eYXOSMJ_n0y"
      },
      "execution_count": null,
      "outputs": []
    },
    {
      "cell_type": "code",
      "source": [
        "response = hybrid_chain.invoke(\"What is RAG token model?\")"
      ],
      "metadata": {
        "id": "FW25CQ2a_sVF"
      },
      "execution_count": null,
      "outputs": []
    },
    {
      "cell_type": "code",
      "source": [
        "response"
      ],
      "metadata": {
        "id": "XkuH2QqMBMAc"
      },
      "execution_count": null,
      "outputs": []
    },
    {
      "cell_type": "code",
      "source": [
        "print(response[\"result\"])"
      ],
      "metadata": {
        "id": "Zb8DNCdSAn5-"
      },
      "execution_count": null,
      "outputs": []
    },
    {
      "cell_type": "code",
      "source": [],
      "metadata": {
        "id": "y3z2kNCZBt4d"
      },
      "execution_count": null,
      "outputs": []
    }
  ]
}